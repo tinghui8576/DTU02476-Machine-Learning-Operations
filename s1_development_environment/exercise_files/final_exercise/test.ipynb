{
 "cells": [
  {
   "cell_type": "code",
   "execution_count": 1,
   "metadata": {},
   "outputs": [],
   "source": [
    "import torch\n",
    "from torch.utils.data import DataLoader\n",
    "from torchvision import transforms\n",
    "import glob\n",
    "import os\n",
    "from torch.utils.data import Dataset, DataLoader\n",
    "\n",
    "class TrainDataset(Dataset):\n",
    "    def __init__(self):\n",
    "        self.imgs_path = \"/Users/tinghui/workspace/python/dtu_mlops/data/corruptmnist/\"\n",
    "        \n",
    "        image = glob.glob(self.imgs_path + \"*train_image*\")\n",
    "        # label = glob.glob(self.imgs_path + \"*train_target*\")\n",
    "        self.data = []\n",
    "        self.labels = []\n",
    "        for image_path in image:\n",
    "            \n",
    "            root,tail = os.path.split(image_path)\n",
    "            label_path = os.path.join(root, tail.split(\"_\")[0]+\"_target_\"+tail.split(\"_\")[-1])\n",
    "\n",
    "            loaded_data = torch.load(image_path)\n",
    "            loaded_labels = torch.load(label_path)\n",
    "            \n",
    "            assert len(loaded_data) == len(loaded_labels)\n",
    "            \n",
    "            self.data.extend(loaded_data)\n",
    "            self.labels.extend(loaded_labels)\n",
    "\n",
    "        self.transform = transforms.Compose([\n",
    "            transforms.ToTensor(),\n",
    "            # Add other transformations as needed\n",
    "        ])\n",
    "        \n",
    "    def __len__(self):\n",
    "        return len(self.data)\n",
    "    \n",
    "    def __getitem__(self, idx):\n",
    "        sample = {\n",
    "            'data': self.data[idx],\n",
    "            'label': self.labels[idx]\n",
    "        }\n",
    "\n",
    "        # Apply transformations if needed\n",
    "        if self.transform:\n",
    "            if not isinstance(sample['data'], torch.Tensor):\n",
    "                sample['data'] = self.transform(sample['data'])\n",
    "\n",
    "        return sample\n",
    "\n",
    "class TestDataset(Dataset):\n",
    "    def __init__(self):\n",
    "        self.imgs_path = \"/Users/tinghui/workspace/python/dtu_mlops/data/corruptmnist/\"\n",
    "        \n",
    "        image_path = os.path.join(self.imgs_path, \"test_images.pt\")\n",
    "        label_path = os.path.join(self.imgs_path, \"test_target.pt\")\n",
    "        \n",
    "        self.data =  torch.load(image_path)\n",
    "        self.labels =  torch.load(label_path)\n",
    "\n",
    "        assert len(self.data) == len(self.labels)\n",
    "\n",
    "        # You may need to preprocess the data or apply transformations here\n",
    "        self.transform = transforms.Compose([\n",
    "            transforms.ToTensor(),\n",
    "            # Add other transformations as needed\n",
    "        ])\n",
    "        \n",
    "    def __len__(self):\n",
    "        return len(self.data)\n",
    "    \n",
    "    def __getitem__(self, idx):\n",
    "        sample = {\n",
    "            'data': self.data[idx],\n",
    "            'label': self.labels[idx]\n",
    "        }\n",
    "\n",
    "        # Apply transformations if needed\n",
    "        if self.transform:\n",
    "            if not isinstance(sample['data'], torch.Tensor):\n",
    "                sample['data'] = self.transform(sample['data'])\n",
    "\n",
    "        return sample\n",
    "\n",
    "\n",
    "def mnist():\n",
    "    \"\"\"Return train and test dataloaders for MNIST.\"\"\"\n",
    "    # exchange with the corrupted mnist dataset\n",
    "    trainset = TrainDataset()\n",
    "    testset= TestDataset()\n",
    "    batch_size = 64  # Adjust this based on your requirements\n",
    "    shuffle = True    # You may want to shuffle the data during training\n",
    "    train = DataLoader(trainset, batch_size=batch_size, shuffle=shuffle)\n",
    "    test = DataLoader(testset, batch_size=batch_size, shuffle=False)\n",
    "    return train, test\n"
   ]
  },
  {
   "cell_type": "code",
   "execution_count": 2,
   "metadata": {},
   "outputs": [],
   "source": [
    "from torch import nn\n",
    "import torch.nn.functional as F\n",
    "\n",
    "class MyAwesomeModel(nn.Module):\n",
    "    \"\"\"My awesome model.\"\"\"\n",
    "\n",
    "    def __init__(self):\n",
    "        super().__init__()\n",
    "        self.fc1 = nn.Linear(784, 256)\n",
    "        self.fc2 = nn.Linear(256, 128)\n",
    "        self.fc3 = nn.Linear(128, 64)\n",
    "        self.fc4 = nn.Linear(64, 10)\n",
    "        \n",
    "        #Dropout with 0.2 probability\n",
    "        self.dropout = nn.Dropout(p=0.2)\n",
    "    def forward(self, x):\n",
    "        # make sure input tensor is flattened\n",
    "        x = x.view(x.shape[0], -1)\n",
    "        \n",
    "        x = self.dropout(F.relu(self.fc1(x)))\n",
    "        x = self.dropout(F.relu(self.fc2(x)))\n",
    "        x = self.dropout(F.relu(self.fc3(x)))\n",
    "        \n",
    "        x = F.log_softmax(self.fc4(x), dim=1)\n",
    "        \n",
    "        return x\n"
   ]
  },
  {
   "cell_type": "code",
   "execution_count": 3,
   "metadata": {},
   "outputs": [],
   "source": [
    "def validation(model, testloader, criterion):\n",
    "    \"\"\"Validate the model on the testdata by calculating the sum of mean loss and mean accuracy for each test batch.\n",
    "\n",
    "    Arguments:\n",
    "        model: torch network\n",
    "        testloader: torch.utils.data.DataLoader, dataloader of test set\n",
    "        criterion: loss function\n",
    "    \"\"\"\n",
    "    accuracy = 0\n",
    "    test_loss = 0\n",
    "    for batch in testloader:\n",
    "\n",
    "        # load data and labels in the batch\n",
    "        data = batch['data']\n",
    "        labels = batch['label']\n",
    "\n",
    "        output = model.forward(data)\n",
    "        test_loss += criterion(output, labels).item()\n",
    "\n",
    "        ## Calculating the accuracy\n",
    "        # Model's output is log-softmax, take exponential to get the probabilities\n",
    "        ps = torch.exp(output)\n",
    "        # Class with highest probability is our predicted class, compare with true label\n",
    "        equality = labels.data == ps.max(1)[1]\n",
    "        # Accuracy is number of correct predictions divided by all predictions, just take the mean\n",
    "        accuracy += equality.type_as(torch.FloatTensor()).mean()\n",
    "\n",
    "    return test_loss, accuracy"
   ]
  },
  {
   "cell_type": "code",
   "execution_count": 4,
   "metadata": {},
   "outputs": [
    {
     "name": "stdout",
     "output_type": "stream",
     "text": [
      "Epoch: 1/30  Training Loss: 1.650  Test Loss: 0.897  Test Accuracy: 0.750\n",
      "Epoch: 2/30  Training Loss: 0.933  Test Loss: 0.680  Test Accuracy: 0.800\n",
      "Epoch: 3/30  Training Loss: 0.773  Test Loss: 0.579  Test Accuracy: 0.827\n",
      "Epoch: 4/30  Training Loss: 0.671  Test Loss: 0.519  Test Accuracy: 0.842\n",
      "Epoch: 5/30  Training Loss: 0.603  Test Loss: 0.472  Test Accuracy: 0.857\n",
      "Epoch: 6/30  Training Loss: 0.540  Test Loss: 0.437  Test Accuracy: 0.864\n",
      "Epoch: 7/30  Training Loss: 0.495  Test Loss: 0.407  Test Accuracy: 0.873\n",
      "Epoch: 8/30  Training Loss: 0.455  Test Loss: 0.387  Test Accuracy: 0.882\n",
      "Epoch: 9/30  Training Loss: 0.421  Test Loss: 0.362  Test Accuracy: 0.888\n",
      "Epoch: 10/30  Training Loss: 0.390  Test Loss: 0.345  Test Accuracy: 0.890\n",
      "Epoch: 11/30  Training Loss: 0.366  Test Loss: 0.325  Test Accuracy: 0.897\n",
      "Epoch: 12/30  Training Loss: 0.340  Test Loss: 0.309  Test Accuracy: 0.903\n",
      "Epoch: 13/30  Training Loss: 0.320  Test Loss: 0.298  Test Accuracy: 0.906\n",
      "Epoch: 14/30  Training Loss: 0.297  Test Loss: 0.289  Test Accuracy: 0.909\n",
      "Epoch: 15/30  Training Loss: 0.281  Test Loss: 0.275  Test Accuracy: 0.914\n",
      "Epoch: 16/30  Training Loss: 0.264  Test Loss: 0.268  Test Accuracy: 0.915\n",
      "Epoch: 17/30  Training Loss: 0.250  Test Loss: 0.260  Test Accuracy: 0.917\n",
      "Epoch: 18/30  Training Loss: 0.234  Test Loss: 0.255  Test Accuracy: 0.921\n",
      "Epoch: 19/30  Training Loss: 0.227  Test Loss: 0.250  Test Accuracy: 0.919\n",
      "Epoch: 20/30  Training Loss: 0.214  Test Loss: 0.245  Test Accuracy: 0.921\n",
      "Epoch: 21/30  Training Loss: 0.201  Test Loss: 0.246  Test Accuracy: 0.923\n",
      "Epoch: 22/30  Training Loss: 0.194  Test Loss: 0.231  Test Accuracy: 0.927\n",
      "Epoch: 23/30  Training Loss: 0.182  Test Loss: 0.230  Test Accuracy: 0.924\n",
      "Epoch: 24/30  Training Loss: 0.176  Test Loss: 0.223  Test Accuracy: 0.928\n",
      "Epoch: 25/30  Training Loss: 0.167  Test Loss: 0.226  Test Accuracy: 0.929\n",
      "Epoch: 26/30  Training Loss: 0.162  Test Loss: 0.222  Test Accuracy: 0.931\n",
      "Epoch: 27/30  Training Loss: 0.151  Test Loss: 0.222  Test Accuracy: 0.929\n",
      "Epoch: 28/30  Training Loss: 0.145  Test Loss: 0.217  Test Accuracy: 0.931\n",
      "Epoch: 29/30  Training Loss: 0.141  Test Loss: 0.212  Test Accuracy: 0.932\n",
      "Epoch: 30/30  Training Loss: 0.133  Test Loss: 0.213  Test Accuracy: 0.934\n"
     ]
    }
   ],
   "source": [
    "from torch import optim\n",
    "lr = 1e-4\n",
    "\n",
    "\n",
    "\n",
    "\n",
    "\n",
    "model = MyAwesomeModel()\n",
    "\n",
    "criterion = nn.CrossEntropyLoss()\n",
    "optimizer = optim.Adam(model.parameters(), lr=lr)\n",
    "epochs = 30\n",
    "steps = 0\n",
    "running_loss = 0\n",
    "\n",
    "train_set, test_set = mnist()\n",
    "\n",
    "\n",
    "train_losses, test_losses = [], []\n",
    "\n",
    "for e in range(epochs):\n",
    "    for batch in train_set:\n",
    "        steps += 1\n",
    "        # load data and labels in the batch\n",
    "        data = batch['data']\n",
    "        labels = batch['label']\n",
    "\n",
    "        # Training\n",
    "        optimizer.zero_grad()\n",
    "        log_ps = model(data)\n",
    "        loss = criterion(log_ps, labels)\n",
    "        loss.backward()\n",
    "        optimizer.step()\n",
    "\n",
    "        running_loss += loss.item()\n",
    "         \n",
    "    else:\n",
    "        model.eval()\n",
    "\n",
    "        # Turn off gradients for validation, will speed up inference\n",
    "        with torch.no_grad():\n",
    "            test_loss, accuracy = validation(model, test_set, criterion)\n",
    "\n",
    "        train_loss = running_loss/len(train_set)\n",
    "        train_losses.append(train_loss)\n",
    "        test_loss = test_loss / len(test_set)\n",
    "        test_losses.append(test_loss)\n",
    "        print(\n",
    "            \"Epoch: {}/{} \".format(e + 1, epochs),\n",
    "            \"Training Loss: {:.3f} \".format(train_loss),\n",
    "            \"Test Loss: {:.3f} \".format(test_loss),\n",
    "            \"Test Accuracy: {:.3f}\".format(accuracy / len(test_set)),\n",
    "            )\n",
    "        running_loss = 0\n",
    "        model.train()\n",
    "\n",
    "torch.save(model.state_dict(), 'trained_model.pt')"
   ]
  },
  {
   "cell_type": "code",
   "execution_count": 5,
   "metadata": {},
   "outputs": [
    {
     "data": {
      "text/plain": [
       "<All keys matched successfully>"
      ]
     },
     "execution_count": 5,
     "metadata": {},
     "output_type": "execute_result"
    }
   ],
   "source": [
    "model = MyAwesomeModel()\n",
    "state_dict = torch.load('trained_model.pt')\n",
    "model.load_state_dict(state_dict)"
   ]
  },
  {
   "cell_type": "code",
   "execution_count": 6,
   "metadata": {},
   "outputs": [
    {
     "name": "stdout",
     "output_type": "stream",
     "text": [
      "tensor(0.9159)\n"
     ]
    }
   ],
   "source": [
    "_, accuracy = validation(model, test_set,criterion)\n",
    "print(accuracy / len(test_set))"
   ]
  },
  {
   "cell_type": "code",
   "execution_count": 7,
   "metadata": {},
   "outputs": [
    {
     "data": {
      "image/png": "[encoded data removed]",
      "text/plain": [
       "<Figure size 640x480 with 1 Axes>"
      ]
     },
     "metadata": {},
     "output_type": "display_data"
    }
   ],
   "source": [
    "import matplotlib.pyplot as plt\n",
    "\n",
    "\n",
    "epochs = range(1, len(train_losses) + 1)\n",
    "\n",
    "# Plotting train and test losses\n",
    "plt.plot(epochs, train_losses, label='Train Loss')\n",
    "plt.plot(epochs, test_losses, label='Test Loss')\n",
    "\n",
    "plt.title('Train and Test Loss Over Epochs')\n",
    "plt.xlabel('Epochs')\n",
    "plt.ylabel('Loss')\n",
    "plt.legend()\n",
    "\n",
    "plt.show()\n"
   ]
  },
  {
   "cell_type": "code",
   "execution_count": 8,
   "metadata": {},
   "outputs": [],
   "source": [
    "def evaluate(model_checkpoint):\n",
    "    \"\"\"Evaluate a trained model.\"\"\"\n",
    "    print(\"Evaluating like my life dependends on it\")\n",
    "    print(model_checkpoint)\n",
    "\n",
    "\n",
    "\n",
    "    # TODO: Implement evaluation logic here\n",
    "    model = MyAwesomeModel()\n",
    "    state_dict = torch.load(model_checkpoint)\n",
    "    model.load_state_dict(state_dict)  \n",
    "     \n",
    "    _, test_set = mnist()\n",
    "    criterion = nn.CrossEntropyLoss()\n",
    "    _, accuracy = validation(model, test_set,criterion)\n",
    "    print(\"Accuracy: {:.3f}\".format(accuracy / len(test_set)))"
   ]
  },
  {
   "cell_type": "code",
   "execution_count": 9,
   "metadata": {},
   "outputs": [
    {
     "name": "stdout",
     "output_type": "stream",
     "text": [
      "Evaluating like my life dependends on it\n",
      "trained_model.pt\n",
      "Accuracy: 0.912\n"
     ]
    }
   ],
   "source": [
    "\n",
    "evaluate('trained_model.pt')"
   ]
  },
  {
   "cell_type": "code",
   "execution_count": 19,
   "metadata": {},
   "outputs": [],
   "source": [
    "# Test out your network!\n",
    "\n",
    "model.eval()\n",
    "\n",
    "dataiter = iter(test_set)\n",
    "\n"
   ]
  },
  {
   "cell_type": "code",
   "execution_count": 24,
   "metadata": {},
   "outputs": [
    {
     "data": {
      "image/png": "[encoded data removed]",
      "text/plain": [
       "<Figure size 600x900 with 2 Axes>"
      ]
     },
     "metadata": {},
     "output_type": "display_data"
    }
   ],
   "source": [
    "# Import helper module (should be in the repo)\n",
    "import helper\n",
    "\n",
    "images = next(dataiter)\n",
    "\n",
    "img = images['data'][0]\n",
    "# Convert 2D image to 1D vector\n",
    "img = img.view(1, 784)\n",
    "\n",
    "# Calculate the class probabilities (softmax) for img\n",
    "with torch.no_grad():\n",
    "    output = model.forward(img)\n",
    "\n",
    "ps = torch.exp(output)\n",
    "\n",
    "# Plot the image and probabilities\n",
    "helper.view_classify(img.view(1, 28, 28), ps, version='Fashion')"
   ]
  }
 ],
 "metadata": {
  "kernelspec": {
   "display_name": "env",
   "language": "python",
   "name": "python3"
  },
  "language_info": {
   "codemirror_mode": {
    "name": "ipython",
    "version": 3
   },
   "file_extension": ".py",
   "mimetype": "text/x-python",
   "name": "python",
   "nbconvert_exporter": "python",
   "pygments_lexer": "ipython3",
   "version": "3.11.5"
  }
 },
 "nbformat": 4,
 "nbformat_minor": 2
}
